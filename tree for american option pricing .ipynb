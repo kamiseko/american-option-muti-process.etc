{
 "cells": [
  {
   "cell_type": "code",
   "execution_count": null,
   "metadata": {
    "collapsed": true
   },
   "outputs": [],
   "source": [
    "#!/usr/bin/env python\n",
    "# -*- coding: utf-8 -*-"
   ]
  },
  {
   "cell_type": "code",
   "execution_count": null,
   "metadata": {
    "collapsed": true
   },
   "outputs": [],
   "source": [
    "from __future__ import division \n",
    "import math\n",
    "from scipy.optimize import newton\n",
    "import numpy as np\n",
    "import json\n",
    "import requests\n",
    "import pandas as pd"
   ]
  },
  {
   "cell_type": "code",
   "execution_count": null,
   "metadata": {
    "collapsed": true
   },
   "outputs": [],
   "source": [
    "%load_ext line_profiler"
   ]
  },
  {
   "cell_type": "code",
   "execution_count": null,
   "metadata": {
    "collapsed": true
   },
   "outputs": [],
   "source": [
    "headers = {\n",
    "    'Accept':'application/json, text/javascript, */*; q=0.01',\n",
    "    'Accept-Encoding':'gzip, deflate',\n",
    "    'Accept-Language':'en-US,en;q=0.8,ja;q=0.6,zh-CN;q=0.4',\n",
    "    'Cache-Control':'no-cache',\n",
    "    'Connection':'keep-alive',\n",
    "    'Content-Length':'2',\n",
    "    'Content-Type':'application/json',\n",
    "    'Host':'gs.amac.org.cn',\n",
    "    'Origin':'http://gs.amac.org.cn',\n",
    "    'Pragma':'no-cache',\n",
    "    'Referer':'http://gs.amac.org.cn/amac-infodisc/res/pof/fund/index.html',\n",
    "    'User-Agent':'Mozilla/5.0 (Macintosh; Intel Mac OS X 10_10_5) AppleWebKit/537.36 (KHTML, like Gecko) Chrome/57.0.2987.133 Safari/537.36',\n",
    "    'X-Requested-With':'XMLHttpRequest',\n",
    "}\n",
    "page = 0\n",
    "size = 20\n",
    "\n",
    "finalInfo = pd.DataFrame()\n",
    "for page in range(2):\n",
    "    \n",
    "    url = 'http://huidu.tradeapi.yunkuanke.com/front/query/queryPositionList.do'\n",
    "    r = requests.post(url % (page, size), headers=headers, data='{}')\n",
    "    data = json.dumps(json.loads(r.content)['content'])\n",
    "    datadf = pd.read_json(data)\n",
    "    finalInfo = pd.concat([finalInfo,datadf], axis=0)\n",
    "finalInfo.reset_index(drop=True, inplace=True)\n",
    "# finalInfo.to_csv(savepath+'/'+ filename,header=True)\n",
    "# finalInfo['trueURL'] = finalInfo['managerUrl'].apply(lambda x : x.split('/')[-1])  # customize"
   ]
  },
  {
   "cell_type": "code",
   "execution_count": 10,
   "metadata": {
    "collapsed": false
   },
   "outputs": [],
   "source": [
    "def AmerImpliedVol2(opt_price, price, forwards, strike, time,DFs,callPutInd=1.,n_steps=200,scale=1.):\n",
    "    time_step=float(time/n_steps)\n",
    "    time_sqrt=np.sqrt(time_step)\n",
    "\n",
    "    forwards_previous=[price]\n",
    "    forwards_previous.extend(forwards[:-1])\n",
    "    exp_drift=np.array(forwards)/np.array(forwards_previous)\n",
    "\n",
    "    step_DFs=np.array(DFs[1:])/np.array(DFs[:-1])\n",
    "\n",
    "    tree_template=vertical+horizontal\n",
    "\n",
    "    #vol=0.25\n",
    "    def step_price(vol):\n",
    "        power_vol=np.exp(vol*time_sqrt)\n",
    "        down=1/power_vol\n",
    "        p_up=(exp_drift-down)/(power_vol-down)\n",
    "        p_down=1.-p_up\n",
    "\n",
    "        horizontal=np.ones(shape=(1,n_steps+1))*power_vol\n",
    "        horizontal[0,0]=1.\n",
    "        horizontal=np.cumprod(horizontal,axis=1)\n",
    "\n",
    "        vertical=np.ones(shape=(n_steps+1,1))/(power_vol*power_vol)\n",
    "        vertical[0,0]=1.\n",
    "        vertical=np.cumprod(vertical,axis=0)\n",
    "\n",
    "        tree=price*(vertical*horizontal)\n",
    "\n",
    "        cp=callPutInd\n",
    "        def payoff(values):\n",
    "            return np.maximum(cp*(values-strike),0.)\n",
    "\n",
    "        payoffs=payoff(tree)\n",
    "        del tree\n",
    "        current=payoffs[:,n_steps]\n",
    "\n",
    "        for i in xrange(n_steps,0,-1):\n",
    "            after_step=step_DFs[i-1]*(p_up[i-1]*current[:i]+p_down[i-1]*current[1:])\n",
    "            current=np.maximum(after_step,payoffs[:i,i-1])\n",
    "            #print current\n",
    "            #current[:-1]=after_step\n",
    "\n",
    "        return scale*current[0]-opt_price\n",
    "\n",
    "    seed=0.3\n",
    "\n",
    "    return newton(step_price,seed,tol=0.5e-04)"
   ]
  },
  {
   "cell_type": "code",
   "execution_count": null,
   "metadata": {
    "collapsed": false
   },
   "outputs": [],
   "source": [
    "#---------------------------------------------------- Tree to price American Option and cal IV and Greeks---------------------#"
   ]
  },
  {
   "cell_type": "code",
   "execution_count": 264,
   "metadata": {
    "collapsed": false
   },
   "outputs": [],
   "source": [
    "def get_price_by_binomial_tree(vol,s,k,t,option_type =1,rf=0.02):\n",
    "        \"\"\"\n",
    "        This function will make the same calculation but by Binomial Tree\n",
    "        \"\"\"\n",
    "        n=100\n",
    "        deltaT=t/n\n",
    "        u = math.exp(vol*math.sqrt(deltaT))\n",
    "        d=1.0/u\n",
    "        rf = 0.02\n",
    "        # Initialize our f_{i,j} tree with zeros\n",
    "        fs = [[0.0 for j in xrange(i+1)] for i in xrange(n+1)]\n",
    "        a = math.exp(rf*deltaT)   # math.exp is faster than  np.exp\n",
    "        p = (a-d)/(u-d)\n",
    "        oneMinusP = 1.0-p \n",
    "        # Compute the leaves, f_{N,j}\n",
    "        if option_type == 1 :\n",
    "            for j in xrange(i+1):\n",
    "                fs[n][j]=max(s * u**j * d**(n-j) - k, 0.0)\n",
    "        elif option_type == -1:\n",
    "             for j in xrange(i+1):\n",
    "                fs[n][j]=max(k - s * u**j * d**(n-j), 0.0)\n",
    "        for i in xrange(n-1, -1, -1):\n",
    "            for j in xrange(i+1):\n",
    "                fs[i][j]=math.exp(-rf * deltaT) * (p * fs[i+1][j+1] +\n",
    "                                                        oneMinusP * fs[i+1][j])\n",
    " \n",
    "        return fs[0][0]"
   ]
  },
  {
   "cell_type": "code",
   "execution_count": 248,
   "metadata": {
    "collapsed": false
   },
   "outputs": [],
   "source": [
    "def newton_target_func(vol,optprice,*args):\n",
    "    return get_price_by_binomial_tree(vol,*args) - optprice"
   ]
  },
  {
   "cell_type": "code",
   "execution_count": 267,
   "metadata": {
    "collapsed": false
   },
   "outputs": [],
   "source": [
    "def get_IV_by_tree(optprice,s,k,t,option_type,init_guess = 0.1):\n",
    "    return newton(newton_target_func,init_guess,args=(optprice,s,k,t,option_type),tol = 0.5e-05)"
   ]
  },
  {
   "cell_type": "code",
   "execution_count": null,
   "metadata": {
    "collapsed": true
   },
   "outputs": [],
   "source": [
    "#------------------------------------   END   --------------------------------------------#"
   ]
  },
  {
   "cell_type": "code",
   "execution_count": 274,
   "metadata": {
    "collapsed": false
   },
   "outputs": [
    {
     "data": {
      "text/plain": [
       "1.6040513508816128"
      ]
     },
     "execution_count": 274,
     "metadata": {},
     "output_type": "execute_result"
    }
   ],
   "source": [
    "# test\n",
    "vol0 = 0.3\n",
    "s0 = 8\n",
    "k0=9.2\n",
    "t0=1\n",
    "call = 1\n",
    "put = -1\n",
    "\n",
    "opt_price_AM = get_price_by_binomial_tree(vol0,s0,k0,t0,put)\n",
    "opt_price_AM"
   ]
  },
  {
   "cell_type": "code",
   "execution_count": 276,
   "metadata": {
    "collapsed": false
   },
   "outputs": [
    {
     "data": {
      "text/plain": [
       "0.29999999999373594"
      ]
     },
     "execution_count": 276,
     "metadata": {},
     "output_type": "execute_result"
    }
   ],
   "source": [
    "IV = get_IV_by_tree(opt_price_AM ,s0,k0,t0,put)\n",
    "IV"
   ]
  },
  {
   "cell_type": "code",
   "execution_count": 207,
   "metadata": {
    "collapsed": false
   },
   "outputs": [
    {
     "data": {
      "text/plain": [
       "0.30878469270429865"
      ]
     },
     "execution_count": 207,
     "metadata": {},
     "output_type": "execute_result"
    }
   ],
   "source": [
    "# greeks \n",
    "#delta\n",
    "s1 = s0/100 +s0\n",
    "delta =  (get_price_by_binomial_tree(vol0,s1,k0,t0,rf=0.02) - opt_price_AM) / (s1- s0)\n",
    "delta"
   ]
  },
  {
   "cell_type": "code",
   "execution_count": 208,
   "metadata": {
    "collapsed": false
   },
   "outputs": [
    {
     "data": {
      "text/plain": [
       "2.820414325472695"
      ]
     },
     "execution_count": 208,
     "metadata": {},
     "output_type": "execute_result"
    }
   ],
   "source": [
    "# vega\n",
    "vol1 = vol0/100 + vol0\n",
    "vega = (get_price_by_binomial_tree(vol1,s0,k0,t0,rf=0.02) - opt_price_AM) / (vol1- vol0)\n",
    "vega"
   ]
  },
  {
   "cell_type": "code",
   "execution_count": 212,
   "metadata": {
    "collapsed": false
   },
   "outputs": [
    {
     "data": {
      "text/plain": [
       "0.012887886776404693"
      ]
     },
     "execution_count": 212,
     "metadata": {},
     "output_type": "execute_result"
    }
   ],
   "source": [
    "#gamma\n",
    "s2 = s1/100 +s1\n",
    "delta2 = (get_price_by_binomial_tree(vol0,s2,k0,t0,rf=0.02) - get_price_by_binomial_tree(vol0,s1,k0,t0,rf=0.02)) / (s2- s1)\n",
    "gamma = (delta2 - delta) / (s1 - s0) \n",
    "gamma"
   ]
  },
  {
   "cell_type": "code",
   "execution_count": null,
   "metadata": {
    "collapsed": false
   },
   "outputs": [],
   "source": []
  },
  {
   "cell_type": "code",
   "execution_count": 193,
   "metadata": {
    "collapsed": false
   },
   "outputs": [],
   "source": [
    "%lprun -f get_IV_by_tree get_IV_by_tree(opt_price_AM ,s0,k0,t0)"
   ]
  },
  {
   "cell_type": "code",
   "execution_count": null,
   "metadata": {
    "collapsed": false
   },
   "outputs": [],
   "source": []
  },
  {
   "cell_type": "code",
   "execution_count": null,
   "metadata": {
    "collapsed": false
   },
   "outputs": [],
   "source": []
  },
  {
   "cell_type": "code",
   "execution_count": 130,
   "metadata": {
    "collapsed": false
   },
   "outputs": [
    {
     "data": {
      "text/plain": [
       "4"
      ]
     },
     "execution_count": 130,
     "metadata": {},
     "output_type": "execute_result"
    }
   ],
   "source": [
    "def power(args):\n",
    "    x,y = args\n",
    "    return x**y\n",
    "power((2,2))"
   ]
  },
  {
   "cell_type": "code",
   "execution_count": null,
   "metadata": {
    "collapsed": false
   },
   "outputs": [],
   "source": []
  }
 ],
 "metadata": {
  "kernelspec": {
   "display_name": "Python 2",
   "language": "python",
   "name": "python2"
  },
  "language_info": {
   "codemirror_mode": {
    "name": "ipython",
    "version": 2
   },
   "file_extension": ".py",
   "mimetype": "text/x-python",
   "name": "python",
   "nbconvert_exporter": "python",
   "pygments_lexer": "ipython2",
   "version": "2.7.12"
  }
 },
 "nbformat": 4,
 "nbformat_minor": 2
}
