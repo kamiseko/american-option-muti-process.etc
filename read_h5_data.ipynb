{
 "cells": [
  {
   "cell_type": "code",
   "execution_count": null,
   "metadata": {
    "collapsed": true
   },
   "outputs": [],
   "source": [
    "#!/Tsan/bin/python\n",
    "# -*- coding: utf-8 -*-"
   ]
  },
  {
   "cell_type": "code",
   "execution_count": null,
   "metadata": {
    "collapsed": true
   },
   "outputs": [],
   "source": [
    "import pandas as pd\n",
    "import numpy as np\n",
    "from datetime import datetime,date\n",
    "import h5py"
   ]
  },
  {
   "cell_type": "code",
   "execution_count": null,
   "metadata": {
    "collapsed": true
   },
   "outputs": [],
   "source": [
    "# 读取.h5文件并转换成pandas形式"
   ]
  },
  {
   "cell_type": "code",
   "execution_count": null,
   "metadata": {
    "collapsed": true
   },
   "outputs": [],
   "source": [
    "# 读取h5file文件并合成为dataframe\n",
    "# 只适合因子文件\n",
    "def readh5data(path,filename):\n",
    "    h5file = h5py.File(os.path.join(path, filename), \"r+\")\n",
    "    indexList = h5file[\"date\"].value\n",
    "    indexList = [str(date) for date in indexList]\n",
    "    header = h5file[\"header\"].value\n",
    "    data = h5file[\"data\"].value\n",
    "    df = pd.DataFrame(index =indexList,columns = header,data = data,dtype =float)\n",
    "    df.index = pd.to_datetime(df.index)\n",
    "    df.index.name = 'date'\n",
    "    return df"
   ]
  },
  {
   "cell_type": "code",
   "execution_count": null,
   "metadata": {
    "collapsed": true
   },
   "outputs": [],
   "source": [
    "readh5data(path ,testfile).tail()"
   ]
  },
  {
   "cell_type": "code",
   "execution_count": null,
   "metadata": {
    "collapsed": true
   },
   "outputs": [],
   "source": [
    "# 读取带有中文的\n",
    "h5file = h5py.File(os.path.join(path, induexpH5), \"r+\")\n",
    "#indexList = h5file[\"date\"].value\n",
    "header = h5file[\"header\"].value\n",
    "data = h5file[\"data\"].value\n",
    "#timestamp = h5file[\"timestamp\"]\n",
    "induExplanation =pd.DataFrame(columns = header,data = data)"
   ]
  }
 ],
 "metadata": {
  "kernelspec": {
   "display_name": "Python 2",
   "language": "python",
   "name": "python2"
  },
  "language_info": {
   "codemirror_mode": {
    "name": "ipython",
    "version": 2
   },
   "file_extension": ".py",
   "mimetype": "text/x-python",
   "name": "python",
   "nbconvert_exporter": "python",
   "pygments_lexer": "ipython2",
   "version": "2.7.12"
  }
 },
 "nbformat": 4,
 "nbformat_minor": 2
}
